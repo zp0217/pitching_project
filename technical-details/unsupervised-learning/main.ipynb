{
 "cells": [
  {
   "cell_type": "markdown",
   "metadata": {},
   "source": [
    "---\n",
    "title: \"Unsupervised Learning\"\n",
    "format:\n",
    "    html: \n",
    "        code-fold: false\n",
    "---"
   ]
  },
  {
   "cell_type": "markdown",
   "metadata": {},
   "source": [
    "<!-- After digesting the instructions, you can delete this cell, these are assignment instructions and do not need to be included in your final submission.  -->\n",
    "\n",
    "{{< include instructions.qmd >}} "
   ]
  },
  {
   "cell_type": "markdown",
   "metadata": {},
   "source": [
    "# Code \n"
   ]
  },
  {
   "cell_type": "code",
   "execution_count": null,
   "metadata": {},
   "outputs": [],
   "source": [
    "pitching_data_so = pitching_data[[\n",
    "'release_speed','pfx_x','pfx_z','release_extension','release_spin_rate',\n",
    "'outs','four-seam_fastball','sinker','slider','changeup','cutter','curveball','sweeper','knuckle-curve',\n",
    "'splitter'\n",
    "]]\n",
    "so_f = ['release_speed', 'release_spin_rate', 'pfx_x', 'pfx_z','release_extension']\n",
    "so_features = pitching_data_so[so_f]\n",
    "so_target = pitching_data['outs']\n",
    "scaler = StandardScaler()\n",
    "so_x_scaled = scaler.fit_transform(so_features)\n",
    "#dimension reduction: pca\n",
    "#optimizing pca component\n",
    "from sklearn.decomposition import PCA\n",
    "pca = PCA()\n",
    "X_pca_so = pca.fit_transform(so_x_scaled)\n",
    "def plot_variance_explained(pca):\n",
    "    \n",
    "    plt.plot(pca.explained_variance_ratio_, marker='o',linestyle = '--')\n",
    "    plt.xlabel('Number of components')\n",
    "    plt.ylabel('Explained variance ratio')\n",
    "    plt.show()\n",
    "\n",
    "    plt.plot(np.cumsum(pca.explained_variance_ratio_), marker='o')\n",
    "    plt.xlabel('Number of components')\n",
    "    plt.ylabel('Cumulative explained variance')\n",
    "    plt.show()\n",
    "\n",
    "print(\"Variance explained by each principal components:\")\n",
    "print(pca.explained_variance_ratio_[0:5])\n",
    "\n",
    "print(\"\\nCumulative variance explained by each principal components:\")\n",
    "print(np.cumsum(pca.explained_variance_ratio_)[0:5])\n",
    "\n",
    "plot_variance_explained(pca)\n",
    "\n",
    "\n",
    "#kmeans clustering- optimizing nclusters\n",
    "from sklearn.cluster import KMeans\n",
    "from sklearn.preprocessing import StandardScaler\n",
    "from sklearn.decomposition import PCA\n",
    "from sklearn.metrics import silhouette_score\n",
    "import matplotlib.pyplot as plt\n",
    "import seaborn as sns\n",
    "def kmean_fit(k):\n",
    "   global so_features,model\n",
    "   model=KMeans(n_clusters=k,max_iter=5000,tol=1e-6)\n",
    "   model.fit(so_x_scaled)\n",
    "   return model.inertia_\n",
    "\n",
    "ks = []\n",
    "inertias = []\n",
    "\n",
    "for k in range(1, 7):  \n",
    "    inertia = kmean_fit(k)\n",
    "    ks.append(k)\n",
    "    inertias.append(inertia)\n",
    "    print(k,inertia)\n",
    "\n",
    "plt.plot(ks,inertias,\"-o\")\n",
    "plt.title('PCA elbow method plot')\n",
    "plt.xlabel('number of PC components')\n",
    "plt.ylabel('PCA Component 2')\n",
    "plt.show()\n",
    "\n",
    "from sklearn.preprocessing import StandardScaler\n",
    "from sklearn.cluster import KMeans\n",
    "from sklearn.decomposition import PCA\n",
    "import matplotlib.pyplot as plt\n",
    "\n",
    "pca = PCA(n_components=4)\n",
    "X_pca = pca.fit_transform(so_x_scaled)\n",
    "kmeans = KMeans(n_clusters=3, random_state=42)  \n",
    "pitching_data_so['cluster'] = kmeans.fit_predict(X_pca)\n",
    "\n",
    "plt.figure(figsize=(8, 6),dpi = 500)\n",
    "for cluster_id in range(3):\n",
    "    cluster_points = X_pca[pitching_data_so['cluster'] == cluster_id]\n",
    "    plt.scatter(cluster_points[:, 0], cluster_points[:, 1], label=f'Cluster {cluster_id}',s = 1)\n",
    "\n",
    "plt.title('K-Means Clustering (PCA-reduced Data)')\n",
    "plt.xlabel('PCA Component 1')\n",
    "plt.ylabel('PCA Component 2')\n",
    "plt.legend()\n",
    "plt.show()\n",
    "\n",
    "cluster_summary = pitching_data_so.groupby('cluster')[so_f].mean()\n",
    "cluster_summary\n"
   ]
  }
 ],
 "metadata": {
  "kernelspec": {
   "display_name": "base",
   "language": "python",
   "name": "python3"
  },
  "language_info": {
   "codemirror_mode": {
    "name": "ipython",
    "version": 3
   },
   "file_extension": ".py",
   "mimetype": "text/x-python",
   "name": "python",
   "nbconvert_exporter": "python",
   "pygments_lexer": "ipython3",
   "version": "3.10.14"
  }
 },
 "nbformat": 4,
 "nbformat_minor": 2
}
